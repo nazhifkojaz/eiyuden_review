{
 "cells": [
  {
   "cell_type": "markdown",
   "metadata": {},
   "source": [
    "# Library Imports"
   ]
  },
  {
   "cell_type": "code",
   "execution_count": 1,
   "metadata": {},
   "outputs": [],
   "source": [
    "from gameinsights import Collector"
   ]
  },
  {
   "cell_type": "code",
   "execution_count": 2,
   "metadata": {},
   "outputs": [],
   "source": [
    "import pandas as pd"
   ]
  },
  {
   "cell_type": "code",
   "execution_count": 3,
   "metadata": {},
   "outputs": [
    {
     "data": {
      "text/plain": [
       "True"
      ]
     },
     "execution_count": 3,
     "metadata": {},
     "output_type": "execute_result"
    }
   ],
   "source": [
    "# import secrets\n",
    "from dotenv import load_dotenv\n",
    "import os\n",
    "load_dotenv()"
   ]
  },
  {
   "cell_type": "markdown",
   "metadata": {},
   "source": [
    "# Collecting data using GameInsights"
   ]
  },
  {
   "cell_type": "code",
   "execution_count": 4,
   "metadata": {},
   "outputs": [],
   "source": [
    "steam_api_key = os.getenv(\"STEAM_API_KEY\")"
   ]
  },
  {
   "cell_type": "code",
   "execution_count": 5,
   "metadata": {},
   "outputs": [],
   "source": [
    "collector = Collector(steam_api_key=steam_api_key)"
   ]
  },
  {
   "cell_type": "code",
   "execution_count": 6,
   "metadata": {},
   "outputs": [],
   "source": [
    "eiyuden_appid = \"1658280\""
   ]
  },
  {
   "cell_type": "markdown",
   "metadata": {},
   "source": [
    "## Collecting review data"
   ]
  },
  {
   "cell_type": "code",
   "execution_count": 7,
   "metadata": {},
   "outputs": [],
   "source": [
    "reviews = collector.get_game_review(steam_appid=eiyuden_appid, verbose=False, review_only=True)"
   ]
  },
  {
   "cell_type": "code",
   "execution_count": 13,
   "metadata": {},
   "outputs": [
    {
     "data": {
      "text/plain": [
       "(4100, 21)"
      ]
     },
     "execution_count": 13,
     "metadata": {},
     "output_type": "execute_result"
    }
   ],
   "source": [
    "reviews.shape"
   ]
  },
  {
   "cell_type": "code",
   "execution_count": 9,
   "metadata": {},
   "outputs": [
    {
     "data": {
      "text/plain": [
       "Index(['recommendation_id', 'author_steamid', 'author_num_games_owned',\n",
       "       'author_num_reviews', 'author_playtime_forever',\n",
       "       'author_playtime_last_two_weeks', 'author_playtime_at_review',\n",
       "       'author_last_played', 'language', 'review', 'timestamp_created',\n",
       "       'timestamp_updated', 'voted_up', 'votes_up', 'votes_funny',\n",
       "       'weighted_vote_score', 'comment_count', 'steam_purchase',\n",
       "       'received_for_free', 'written_during_early_access',\n",
       "       'primarily_steam_deck'],\n",
       "      dtype='object')"
      ]
     },
     "execution_count": 9,
     "metadata": {},
     "output_type": "execute_result"
    }
   ],
   "source": [
    "reviews.columns"
   ]
  },
  {
   "cell_type": "code",
   "execution_count": 37,
   "metadata": {},
   "outputs": [],
   "source": [
    "# save review to csv\n",
    "reviews.to_csv(\"data/eiyuden_reviews.csv\", index=False)"
   ]
  },
  {
   "cell_type": "code",
   "execution_count": 24,
   "metadata": {},
   "outputs": [],
   "source": [
    "# save reviews to parquet\n",
    "reviews.to_parquet(\"data/eiyuden_reviews.parquet\", index=False)"
   ]
  },
  {
   "cell_type": "markdown",
   "metadata": {},
   "source": [
    "## Collecting user data"
   ]
  },
  {
   "cell_type": "code",
   "execution_count": 23,
   "metadata": {},
   "outputs": [],
   "source": [
    "reviews = pd.read_csv(\"data/eiyuden_reviews.csv\")"
   ]
  },
  {
   "cell_type": "code",
   "execution_count": 8,
   "metadata": {},
   "outputs": [
    {
     "data": {
      "text/html": [
       "<div>\n",
       "<style scoped>\n",
       "    .dataframe tbody tr th:only-of-type {\n",
       "        vertical-align: middle;\n",
       "    }\n",
       "\n",
       "    .dataframe tbody tr th {\n",
       "        vertical-align: top;\n",
       "    }\n",
       "\n",
       "    .dataframe thead th {\n",
       "        text-align: right;\n",
       "    }\n",
       "</style>\n",
       "<table border=\"1\" class=\"dataframe\">\n",
       "  <thead>\n",
       "    <tr style=\"text-align: right;\">\n",
       "      <th></th>\n",
       "      <th>recommendation_id</th>\n",
       "      <th>author_steamid</th>\n",
       "      <th>author_num_games_owned</th>\n",
       "      <th>author_num_reviews</th>\n",
       "      <th>author_playtime_forever</th>\n",
       "      <th>author_playtime_last_two_weeks</th>\n",
       "      <th>author_playtime_at_review</th>\n",
       "      <th>author_last_played</th>\n",
       "      <th>language</th>\n",
       "      <th>review</th>\n",
       "      <th>...</th>\n",
       "      <th>timestamp_updated</th>\n",
       "      <th>voted_up</th>\n",
       "      <th>votes_up</th>\n",
       "      <th>votes_funny</th>\n",
       "      <th>weighted_vote_score</th>\n",
       "      <th>comment_count</th>\n",
       "      <th>steam_purchase</th>\n",
       "      <th>received_for_free</th>\n",
       "      <th>written_during_early_access</th>\n",
       "      <th>primarily_steam_deck</th>\n",
       "    </tr>\n",
       "  </thead>\n",
       "  <tbody>\n",
       "    <tr>\n",
       "      <th>0</th>\n",
       "      <td>201952284</td>\n",
       "      <td>76561198045255045</td>\n",
       "      <td>0</td>\n",
       "      <td>10</td>\n",
       "      <td>9</td>\n",
       "      <td>9</td>\n",
       "      <td>9</td>\n",
       "      <td>1754967253</td>\n",
       "      <td>english</td>\n",
       "      <td>By the 4th text box in the game I noticed some...</td>\n",
       "      <td>...</td>\n",
       "      <td>1754968462</td>\n",
       "      <td>False</td>\n",
       "      <td>0</td>\n",
       "      <td>0</td>\n",
       "      <td>0.500000</td>\n",
       "      <td>0</td>\n",
       "      <td>False</td>\n",
       "      <td>False</td>\n",
       "      <td>False</td>\n",
       "      <td>False</td>\n",
       "    </tr>\n",
       "    <tr>\n",
       "      <th>1</th>\n",
       "      <td>201940210</td>\n",
       "      <td>76561198113965734</td>\n",
       "      <td>0</td>\n",
       "      <td>2</td>\n",
       "      <td>2734</td>\n",
       "      <td>1447</td>\n",
       "      <td>2734</td>\n",
       "      <td>1754703861</td>\n",
       "      <td>english</td>\n",
       "      <td>Needs a x2 , x3  speed key. Would shave off 70...</td>\n",
       "      <td>...</td>\n",
       "      <td>1754950716</td>\n",
       "      <td>False</td>\n",
       "      <td>0</td>\n",
       "      <td>0</td>\n",
       "      <td>0.500000</td>\n",
       "      <td>0</td>\n",
       "      <td>True</td>\n",
       "      <td>False</td>\n",
       "      <td>False</td>\n",
       "      <td>False</td>\n",
       "    </tr>\n",
       "    <tr>\n",
       "      <th>2</th>\n",
       "      <td>201914252</td>\n",
       "      <td>76561198138897509</td>\n",
       "      <td>0</td>\n",
       "      <td>7</td>\n",
       "      <td>1530</td>\n",
       "      <td>611</td>\n",
       "      <td>1377</td>\n",
       "      <td>1754932590</td>\n",
       "      <td>italian</td>\n",
       "      <td>per ora bella storia e grafica gradevole</td>\n",
       "      <td>...</td>\n",
       "      <td>1754923391</td>\n",
       "      <td>True</td>\n",
       "      <td>0</td>\n",
       "      <td>0</td>\n",
       "      <td>0.500000</td>\n",
       "      <td>0</td>\n",
       "      <td>True</td>\n",
       "      <td>False</td>\n",
       "      <td>False</td>\n",
       "      <td>False</td>\n",
       "    </tr>\n",
       "    <tr>\n",
       "      <th>3</th>\n",
       "      <td>201894653</td>\n",
       "      <td>76561198368799839</td>\n",
       "      <td>6496</td>\n",
       "      <td>540</td>\n",
       "      <td>8511</td>\n",
       "      <td>366</td>\n",
       "      <td>8511</td>\n",
       "      <td>1754893622</td>\n",
       "      <td>koreana</td>\n",
       "      <td>- 이 게임의 가장 큰 문제점은 환상수호전2라는 벽이 너무 거대하다는 거다.\\n본인...</td>\n",
       "      <td>...</td>\n",
       "      <td>1754896546</td>\n",
       "      <td>True</td>\n",
       "      <td>8</td>\n",
       "      <td>1</td>\n",
       "      <td>0.619325</td>\n",
       "      <td>0</td>\n",
       "      <td>False</td>\n",
       "      <td>False</td>\n",
       "      <td>False</td>\n",
       "      <td>False</td>\n",
       "    </tr>\n",
       "    <tr>\n",
       "      <th>4</th>\n",
       "      <td>201825659</td>\n",
       "      <td>76561198449223262</td>\n",
       "      <td>0</td>\n",
       "      <td>2</td>\n",
       "      <td>5018</td>\n",
       "      <td>1605</td>\n",
       "      <td>5018</td>\n",
       "      <td>1754809816</td>\n",
       "      <td>japanese</td>\n",
       "      <td>仲間全員集めてレースやカードゲーム等のミニゲームにも手を付けてプレイ時間約８０時間でクリアし...</td>\n",
       "      <td>...</td>\n",
       "      <td>1754812678</td>\n",
       "      <td>True</td>\n",
       "      <td>0</td>\n",
       "      <td>0</td>\n",
       "      <td>0.500000</td>\n",
       "      <td>0</td>\n",
       "      <td>False</td>\n",
       "      <td>False</td>\n",
       "      <td>False</td>\n",
       "      <td>False</td>\n",
       "    </tr>\n",
       "  </tbody>\n",
       "</table>\n",
       "<p>5 rows × 21 columns</p>\n",
       "</div>"
      ],
      "text/plain": [
       "   recommendation_id     author_steamid  author_num_games_owned  \\\n",
       "0          201952284  76561198045255045                       0   \n",
       "1          201940210  76561198113965734                       0   \n",
       "2          201914252  76561198138897509                       0   \n",
       "3          201894653  76561198368799839                    6496   \n",
       "4          201825659  76561198449223262                       0   \n",
       "\n",
       "   author_num_reviews  author_playtime_forever  \\\n",
       "0                  10                        9   \n",
       "1                   2                     2734   \n",
       "2                   7                     1530   \n",
       "3                 540                     8511   \n",
       "4                   2                     5018   \n",
       "\n",
       "   author_playtime_last_two_weeks  author_playtime_at_review  \\\n",
       "0                               9                          9   \n",
       "1                            1447                       2734   \n",
       "2                             611                       1377   \n",
       "3                             366                       8511   \n",
       "4                            1605                       5018   \n",
       "\n",
       "   author_last_played  language  \\\n",
       "0          1754967253   english   \n",
       "1          1754703861   english   \n",
       "2          1754932590   italian   \n",
       "3          1754893622   koreana   \n",
       "4          1754809816  japanese   \n",
       "\n",
       "                                              review  ...  timestamp_updated  \\\n",
       "0  By the 4th text box in the game I noticed some...  ...         1754968462   \n",
       "1  Needs a x2 , x3  speed key. Would shave off 70...  ...         1754950716   \n",
       "2           per ora bella storia e grafica gradevole  ...         1754923391   \n",
       "3  - 이 게임의 가장 큰 문제점은 환상수호전2라는 벽이 너무 거대하다는 거다.\\n본인...  ...         1754896546   \n",
       "4  仲間全員集めてレースやカードゲーム等のミニゲームにも手を付けてプレイ時間約８０時間でクリアし...  ...         1754812678   \n",
       "\n",
       "   voted_up  votes_up  votes_funny  weighted_vote_score  comment_count  \\\n",
       "0     False         0            0             0.500000              0   \n",
       "1     False         0            0             0.500000              0   \n",
       "2      True         0            0             0.500000              0   \n",
       "3      True         8            1             0.619325              0   \n",
       "4      True         0            0             0.500000              0   \n",
       "\n",
       "   steam_purchase  received_for_free  written_during_early_access  \\\n",
       "0           False              False                        False   \n",
       "1            True              False                        False   \n",
       "2            True              False                        False   \n",
       "3           False              False                        False   \n",
       "4           False              False                        False   \n",
       "\n",
       "   primarily_steam_deck  \n",
       "0                 False  \n",
       "1                 False  \n",
       "2                 False  \n",
       "3                 False  \n",
       "4                 False  \n",
       "\n",
       "[5 rows x 21 columns]"
      ]
     },
     "execution_count": 8,
     "metadata": {},
     "output_type": "execute_result"
    }
   ],
   "source": [
    "reviews.head()"
   ]
  },
  {
   "cell_type": "code",
   "execution_count": 9,
   "metadata": {},
   "outputs": [],
   "source": [
    "# extract author_steamid to collect user data\n",
    "authors = reviews['author_steamid'].to_list()"
   ]
  },
  {
   "cell_type": "code",
   "execution_count": 10,
   "metadata": {},
   "outputs": [
    {
     "data": {
      "text/plain": [
       "4100"
      ]
     },
     "execution_count": 10,
     "metadata": {},
     "output_type": "execute_result"
    }
   ],
   "source": [
    "len(authors)"
   ]
  },
  {
   "cell_type": "code",
   "execution_count": null,
   "metadata": {},
   "outputs": [],
   "source": [
    "user_data = collector.get_user_data(\n",
    "    steamids=authors,\n",
    "    include_free_games=True,\n",
    "    verbose=True,\n",
    ")"
   ]
  },
  {
   "cell_type": "code",
   "execution_count": 12,
   "metadata": {},
   "outputs": [
    {
     "data": {
      "text/html": [
       "<div>\n",
       "<style scoped>\n",
       "    .dataframe tbody tr th:only-of-type {\n",
       "        vertical-align: middle;\n",
       "    }\n",
       "\n",
       "    .dataframe tbody tr th {\n",
       "        vertical-align: top;\n",
       "    }\n",
       "\n",
       "    .dataframe thead th {\n",
       "        text-align: right;\n",
       "    }\n",
       "</style>\n",
       "<table border=\"1\" class=\"dataframe\">\n",
       "  <thead>\n",
       "    <tr style=\"text-align: right;\">\n",
       "      <th></th>\n",
       "      <th>steamid</th>\n",
       "      <th>community_visibility_state</th>\n",
       "      <th>profile_state</th>\n",
       "      <th>persona_name</th>\n",
       "      <th>profile_url</th>\n",
       "      <th>last_log_off</th>\n",
       "      <th>real_name</th>\n",
       "      <th>time_created</th>\n",
       "      <th>loc_country_code</th>\n",
       "      <th>loc_state_code</th>\n",
       "      <th>loc_city_id</th>\n",
       "      <th>owned_games</th>\n",
       "      <th>recently_played_games</th>\n",
       "    </tr>\n",
       "  </thead>\n",
       "  <tbody>\n",
       "    <tr>\n",
       "      <th>0</th>\n",
       "      <td>76561198045255045</td>\n",
       "      <td>2</td>\n",
       "      <td>1.0</td>\n",
       "      <td>Dojilol</td>\n",
       "      <td>https://steamcommunity.com/id/Dojilol/</td>\n",
       "      <td>NaN</td>\n",
       "      <td>None</td>\n",
       "      <td>NaN</td>\n",
       "      <td>None</td>\n",
       "      <td>None</td>\n",
       "      <td>NaN</td>\n",
       "      <td>{}</td>\n",
       "      <td>{}</td>\n",
       "    </tr>\n",
       "    <tr>\n",
       "      <th>1</th>\n",
       "      <td>76561198113965734</td>\n",
       "      <td>1</td>\n",
       "      <td>1.0</td>\n",
       "      <td>123</td>\n",
       "      <td>https://steamcommunity.com/profiles/7656119811...</td>\n",
       "      <td>NaN</td>\n",
       "      <td>None</td>\n",
       "      <td>NaN</td>\n",
       "      <td>None</td>\n",
       "      <td>None</td>\n",
       "      <td>NaN</td>\n",
       "      <td>{}</td>\n",
       "      <td>{}</td>\n",
       "    </tr>\n",
       "    <tr>\n",
       "      <th>2</th>\n",
       "      <td>76561198138897509</td>\n",
       "      <td>3</td>\n",
       "      <td>1.0</td>\n",
       "      <td>Pino70</td>\n",
       "      <td>https://steamcommunity.com/profiles/7656119813...</td>\n",
       "      <td>NaN</td>\n",
       "      <td>Giuseppe</td>\n",
       "      <td>1.401729e+09</td>\n",
       "      <td>IT</td>\n",
       "      <td>05</td>\n",
       "      <td>24453.0</td>\n",
       "      <td>{'game_count': 0, 'games': []}</td>\n",
       "      <td>{'games_count': 0, 'total_playtime_2weeks': 0,...</td>\n",
       "    </tr>\n",
       "    <tr>\n",
       "      <th>3</th>\n",
       "      <td>76561198368799839</td>\n",
       "      <td>3</td>\n",
       "      <td>1.0</td>\n",
       "      <td>oci51</td>\n",
       "      <td>https://steamcommunity.com/profiles/7656119836...</td>\n",
       "      <td>NaN</td>\n",
       "      <td>oci</td>\n",
       "      <td>1.487895e+09</td>\n",
       "      <td>KR</td>\n",
       "      <td>None</td>\n",
       "      <td>NaN</td>\n",
       "      <td>{'game_count': 6658, 'games': [{'appid': 1610,...</td>\n",
       "      <td>{'games_count': 9, 'total_playtime_2weeks': 73...</td>\n",
       "    </tr>\n",
       "    <tr>\n",
       "      <th>4</th>\n",
       "      <td>76561198449223262</td>\n",
       "      <td>3</td>\n",
       "      <td>1.0</td>\n",
       "      <td>Rock in JPN</td>\n",
       "      <td>https://steamcommunity.com/profiles/7656119844...</td>\n",
       "      <td>NaN</td>\n",
       "      <td>None</td>\n",
       "      <td>1.511958e+09</td>\n",
       "      <td>JP</td>\n",
       "      <td>None</td>\n",
       "      <td>NaN</td>\n",
       "      <td>{'game_count': 0, 'games': []}</td>\n",
       "      <td>{'games_count': 0, 'total_playtime_2weeks': 0,...</td>\n",
       "    </tr>\n",
       "    <tr>\n",
       "      <th>...</th>\n",
       "      <td>...</td>\n",
       "      <td>...</td>\n",
       "      <td>...</td>\n",
       "      <td>...</td>\n",
       "      <td>...</td>\n",
       "      <td>...</td>\n",
       "      <td>...</td>\n",
       "      <td>...</td>\n",
       "      <td>...</td>\n",
       "      <td>...</td>\n",
       "      <td>...</td>\n",
       "      <td>...</td>\n",
       "      <td>...</td>\n",
       "    </tr>\n",
       "    <tr>\n",
       "      <th>4095</th>\n",
       "      <td>76561198974329255</td>\n",
       "      <td>3</td>\n",
       "      <td>1.0</td>\n",
       "      <td>CR4V3N1</td>\n",
       "      <td>https://steamcommunity.com/profiles/7656119897...</td>\n",
       "      <td>NaN</td>\n",
       "      <td>None</td>\n",
       "      <td>1.561924e+09</td>\n",
       "      <td>US</td>\n",
       "      <td>TX</td>\n",
       "      <td>3577.0</td>\n",
       "      <td>{'game_count': 0, 'games': []}</td>\n",
       "      <td>{'games_count': 0, 'total_playtime_2weeks': 0,...</td>\n",
       "    </tr>\n",
       "    <tr>\n",
       "      <th>4096</th>\n",
       "      <td>76561198243956334</td>\n",
       "      <td>3</td>\n",
       "      <td>1.0</td>\n",
       "      <td>Onion Knight</td>\n",
       "      <td>https://steamcommunity.com/profiles/7656119824...</td>\n",
       "      <td>NaN</td>\n",
       "      <td>tommy</td>\n",
       "      <td>1.439213e+09</td>\n",
       "      <td>None</td>\n",
       "      <td>None</td>\n",
       "      <td>NaN</td>\n",
       "      <td>{'game_count': 0, 'games': []}</td>\n",
       "      <td>{'games_count': 0, 'total_playtime_2weeks': 0,...</td>\n",
       "    </tr>\n",
       "    <tr>\n",
       "      <th>4097</th>\n",
       "      <td>76561198089697358</td>\n",
       "      <td>3</td>\n",
       "      <td>1.0</td>\n",
       "      <td>Crystalizen</td>\n",
       "      <td>https://steamcommunity.com/id/crystlfst/</td>\n",
       "      <td>NaN</td>\n",
       "      <td>None</td>\n",
       "      <td>1.366967e+09</td>\n",
       "      <td>KR</td>\n",
       "      <td>None</td>\n",
       "      <td>NaN</td>\n",
       "      <td>{'game_count': 0, 'games': []}</td>\n",
       "      <td>{'games_count': 0, 'total_playtime_2weeks': 0,...</td>\n",
       "    </tr>\n",
       "    <tr>\n",
       "      <th>4098</th>\n",
       "      <td>76561198035388233</td>\n",
       "      <td>3</td>\n",
       "      <td>1.0</td>\n",
       "      <td>ubri04</td>\n",
       "      <td>https://steamcommunity.com/id/ubri04/</td>\n",
       "      <td>NaN</td>\n",
       "      <td>Aubrey</td>\n",
       "      <td>1.293036e+09</td>\n",
       "      <td>None</td>\n",
       "      <td>None</td>\n",
       "      <td>NaN</td>\n",
       "      <td>{'game_count': 495, 'games': [{'appid': 3330, ...</td>\n",
       "      <td>{'games_count': 8, 'total_playtime_2weeks': 18...</td>\n",
       "    </tr>\n",
       "    <tr>\n",
       "      <th>4099</th>\n",
       "      <td>76561198055295470</td>\n",
       "      <td>3</td>\n",
       "      <td>1.0</td>\n",
       "      <td>Althuriaz</td>\n",
       "      <td>https://steamcommunity.com/profiles/7656119805...</td>\n",
       "      <td>NaN</td>\n",
       "      <td>None</td>\n",
       "      <td>1.324750e+09</td>\n",
       "      <td>None</td>\n",
       "      <td>None</td>\n",
       "      <td>NaN</td>\n",
       "      <td>{'game_count': 0, 'games': []}</td>\n",
       "      <td>{'games_count': 0, 'total_playtime_2weeks': 0,...</td>\n",
       "    </tr>\n",
       "  </tbody>\n",
       "</table>\n",
       "<p>4100 rows × 13 columns</p>\n",
       "</div>"
      ],
      "text/plain": [
       "                steamid  community_visibility_state  profile_state  \\\n",
       "0     76561198045255045                           2            1.0   \n",
       "1     76561198113965734                           1            1.0   \n",
       "2     76561198138897509                           3            1.0   \n",
       "3     76561198368799839                           3            1.0   \n",
       "4     76561198449223262                           3            1.0   \n",
       "...                 ...                         ...            ...   \n",
       "4095  76561198974329255                           3            1.0   \n",
       "4096  76561198243956334                           3            1.0   \n",
       "4097  76561198089697358                           3            1.0   \n",
       "4098  76561198035388233                           3            1.0   \n",
       "4099  76561198055295470                           3            1.0   \n",
       "\n",
       "      persona_name                                        profile_url  \\\n",
       "0          Dojilol             https://steamcommunity.com/id/Dojilol/   \n",
       "1              123  https://steamcommunity.com/profiles/7656119811...   \n",
       "2           Pino70  https://steamcommunity.com/profiles/7656119813...   \n",
       "3            oci51  https://steamcommunity.com/profiles/7656119836...   \n",
       "4      Rock in JPN  https://steamcommunity.com/profiles/7656119844...   \n",
       "...            ...                                                ...   \n",
       "4095       CR4V3N1  https://steamcommunity.com/profiles/7656119897...   \n",
       "4096  Onion Knight  https://steamcommunity.com/profiles/7656119824...   \n",
       "4097   Crystalizen           https://steamcommunity.com/id/crystlfst/   \n",
       "4098        ubri04              https://steamcommunity.com/id/ubri04/   \n",
       "4099     Althuriaz  https://steamcommunity.com/profiles/7656119805...   \n",
       "\n",
       "      last_log_off real_name  time_created loc_country_code loc_state_code  \\\n",
       "0              NaN      None           NaN             None           None   \n",
       "1              NaN      None           NaN             None           None   \n",
       "2              NaN  Giuseppe  1.401729e+09               IT             05   \n",
       "3              NaN       oci  1.487895e+09               KR           None   \n",
       "4              NaN      None  1.511958e+09               JP           None   \n",
       "...            ...       ...           ...              ...            ...   \n",
       "4095           NaN      None  1.561924e+09               US             TX   \n",
       "4096           NaN     tommy  1.439213e+09             None           None   \n",
       "4097           NaN      None  1.366967e+09               KR           None   \n",
       "4098           NaN    Aubrey  1.293036e+09             None           None   \n",
       "4099           NaN      None  1.324750e+09             None           None   \n",
       "\n",
       "      loc_city_id                                        owned_games  \\\n",
       "0             NaN                                                 {}   \n",
       "1             NaN                                                 {}   \n",
       "2         24453.0                     {'game_count': 0, 'games': []}   \n",
       "3             NaN  {'game_count': 6658, 'games': [{'appid': 1610,...   \n",
       "4             NaN                     {'game_count': 0, 'games': []}   \n",
       "...           ...                                                ...   \n",
       "4095       3577.0                     {'game_count': 0, 'games': []}   \n",
       "4096          NaN                     {'game_count': 0, 'games': []}   \n",
       "4097          NaN                     {'game_count': 0, 'games': []}   \n",
       "4098          NaN  {'game_count': 495, 'games': [{'appid': 3330, ...   \n",
       "4099          NaN                     {'game_count': 0, 'games': []}   \n",
       "\n",
       "                                  recently_played_games  \n",
       "0                                                    {}  \n",
       "1                                                    {}  \n",
       "2     {'games_count': 0, 'total_playtime_2weeks': 0,...  \n",
       "3     {'games_count': 9, 'total_playtime_2weeks': 73...  \n",
       "4     {'games_count': 0, 'total_playtime_2weeks': 0,...  \n",
       "...                                                 ...  \n",
       "4095  {'games_count': 0, 'total_playtime_2weeks': 0,...  \n",
       "4096  {'games_count': 0, 'total_playtime_2weeks': 0,...  \n",
       "4097  {'games_count': 0, 'total_playtime_2weeks': 0,...  \n",
       "4098  {'games_count': 8, 'total_playtime_2weeks': 18...  \n",
       "4099  {'games_count': 0, 'total_playtime_2weeks': 0,...  \n",
       "\n",
       "[4100 rows x 13 columns]"
      ]
     },
     "execution_count": 12,
     "metadata": {},
     "output_type": "execute_result"
    }
   ],
   "source": [
    "user_data"
   ]
  },
  {
   "cell_type": "code",
   "execution_count": 13,
   "metadata": {},
   "outputs": [],
   "source": [
    "# save data to csv\n",
    "user_data.to_csv(\"data/eiyuden_user_data.csv\", index=False)"
   ]
  },
  {
   "cell_type": "code",
   "execution_count": 25,
   "metadata": {},
   "outputs": [],
   "source": [
    "# sasve data to parquet\n",
    "user_data.to_parquet(\"data/eiyuden_user_data.parquet\", index=False)"
   ]
  },
  {
   "cell_type": "markdown",
   "metadata": {},
   "source": [
    "## Collecting game data"
   ]
  },
  {
   "cell_type": "code",
   "execution_count": null,
   "metadata": {},
   "outputs": [],
   "source": [
    "# import user data parquet\n",
    "user_data = pd.read_parquet(\"data/eiyuden_user_data.parquet\")"
   ]
  },
  {
   "cell_type": "code",
   "execution_count": 27,
   "metadata": {},
   "outputs": [
    {
     "data": {
      "text/html": [
       "<div>\n",
       "<style scoped>\n",
       "    .dataframe tbody tr th:only-of-type {\n",
       "        vertical-align: middle;\n",
       "    }\n",
       "\n",
       "    .dataframe tbody tr th {\n",
       "        vertical-align: top;\n",
       "    }\n",
       "\n",
       "    .dataframe thead th {\n",
       "        text-align: right;\n",
       "    }\n",
       "</style>\n",
       "<table border=\"1\" class=\"dataframe\">\n",
       "  <thead>\n",
       "    <tr style=\"text-align: right;\">\n",
       "      <th></th>\n",
       "      <th>steamid</th>\n",
       "      <th>community_visibility_state</th>\n",
       "      <th>profile_state</th>\n",
       "      <th>persona_name</th>\n",
       "      <th>profile_url</th>\n",
       "      <th>last_log_off</th>\n",
       "      <th>real_name</th>\n",
       "      <th>time_created</th>\n",
       "      <th>loc_country_code</th>\n",
       "      <th>loc_state_code</th>\n",
       "      <th>loc_city_id</th>\n",
       "      <th>owned_games</th>\n",
       "      <th>recently_played_games</th>\n",
       "    </tr>\n",
       "  </thead>\n",
       "  <tbody>\n",
       "    <tr>\n",
       "      <th>0</th>\n",
       "      <td>76561198045255045</td>\n",
       "      <td>2</td>\n",
       "      <td>1.0</td>\n",
       "      <td>Dojilol</td>\n",
       "      <td>https://steamcommunity.com/id/Dojilol/</td>\n",
       "      <td>NaN</td>\n",
       "      <td>None</td>\n",
       "      <td>NaN</td>\n",
       "      <td>None</td>\n",
       "      <td>None</td>\n",
       "      <td>NaN</td>\n",
       "      <td>{'game_count': None, 'games': None}</td>\n",
       "      <td>{'games': None, 'games_count': None, 'total_pl...</td>\n",
       "    </tr>\n",
       "    <tr>\n",
       "      <th>1</th>\n",
       "      <td>76561198113965734</td>\n",
       "      <td>1</td>\n",
       "      <td>1.0</td>\n",
       "      <td>123</td>\n",
       "      <td>https://steamcommunity.com/profiles/7656119811...</td>\n",
       "      <td>NaN</td>\n",
       "      <td>None</td>\n",
       "      <td>NaN</td>\n",
       "      <td>None</td>\n",
       "      <td>None</td>\n",
       "      <td>NaN</td>\n",
       "      <td>{'game_count': None, 'games': None}</td>\n",
       "      <td>{'games': None, 'games_count': None, 'total_pl...</td>\n",
       "    </tr>\n",
       "    <tr>\n",
       "      <th>2</th>\n",
       "      <td>76561198138897509</td>\n",
       "      <td>3</td>\n",
       "      <td>1.0</td>\n",
       "      <td>Pino70</td>\n",
       "      <td>https://steamcommunity.com/profiles/7656119813...</td>\n",
       "      <td>NaN</td>\n",
       "      <td>Giuseppe</td>\n",
       "      <td>1.401729e+09</td>\n",
       "      <td>IT</td>\n",
       "      <td>05</td>\n",
       "      <td>24453.0</td>\n",
       "      <td>{'game_count': 0.0, 'games': []}</td>\n",
       "      <td>{'games': [], 'games_count': 0.0, 'total_playt...</td>\n",
       "    </tr>\n",
       "    <tr>\n",
       "      <th>3</th>\n",
       "      <td>76561198368799839</td>\n",
       "      <td>3</td>\n",
       "      <td>1.0</td>\n",
       "      <td>oci51</td>\n",
       "      <td>https://steamcommunity.com/profiles/7656119836...</td>\n",
       "      <td>NaN</td>\n",
       "      <td>oci</td>\n",
       "      <td>1.487895e+09</td>\n",
       "      <td>KR</td>\n",
       "      <td>None</td>\n",
       "      <td>NaN</td>\n",
       "      <td>{'game_count': 6658.0, 'games': [{'appid': 161...</td>\n",
       "      <td>{'games': [{'appid': 978300, 'name': 'Saints R...</td>\n",
       "    </tr>\n",
       "    <tr>\n",
       "      <th>4</th>\n",
       "      <td>76561198449223262</td>\n",
       "      <td>3</td>\n",
       "      <td>1.0</td>\n",
       "      <td>Rock in JPN</td>\n",
       "      <td>https://steamcommunity.com/profiles/7656119844...</td>\n",
       "      <td>NaN</td>\n",
       "      <td>None</td>\n",
       "      <td>1.511958e+09</td>\n",
       "      <td>JP</td>\n",
       "      <td>None</td>\n",
       "      <td>NaN</td>\n",
       "      <td>{'game_count': 0.0, 'games': []}</td>\n",
       "      <td>{'games': [], 'games_count': 0.0, 'total_playt...</td>\n",
       "    </tr>\n",
       "  </tbody>\n",
       "</table>\n",
       "</div>"
      ],
      "text/plain": [
       "             steamid  community_visibility_state  profile_state persona_name  \\\n",
       "0  76561198045255045                           2            1.0      Dojilol   \n",
       "1  76561198113965734                           1            1.0          123   \n",
       "2  76561198138897509                           3            1.0       Pino70   \n",
       "3  76561198368799839                           3            1.0        oci51   \n",
       "4  76561198449223262                           3            1.0  Rock in JPN   \n",
       "\n",
       "                                         profile_url  last_log_off real_name  \\\n",
       "0             https://steamcommunity.com/id/Dojilol/           NaN      None   \n",
       "1  https://steamcommunity.com/profiles/7656119811...           NaN      None   \n",
       "2  https://steamcommunity.com/profiles/7656119813...           NaN  Giuseppe   \n",
       "3  https://steamcommunity.com/profiles/7656119836...           NaN       oci   \n",
       "4  https://steamcommunity.com/profiles/7656119844...           NaN      None   \n",
       "\n",
       "   time_created loc_country_code loc_state_code  loc_city_id  \\\n",
       "0           NaN             None           None          NaN   \n",
       "1           NaN             None           None          NaN   \n",
       "2  1.401729e+09               IT             05      24453.0   \n",
       "3  1.487895e+09               KR           None          NaN   \n",
       "4  1.511958e+09               JP           None          NaN   \n",
       "\n",
       "                                         owned_games  \\\n",
       "0                {'game_count': None, 'games': None}   \n",
       "1                {'game_count': None, 'games': None}   \n",
       "2                   {'game_count': 0.0, 'games': []}   \n",
       "3  {'game_count': 6658.0, 'games': [{'appid': 161...   \n",
       "4                   {'game_count': 0.0, 'games': []}   \n",
       "\n",
       "                               recently_played_games  \n",
       "0  {'games': None, 'games_count': None, 'total_pl...  \n",
       "1  {'games': None, 'games_count': None, 'total_pl...  \n",
       "2  {'games': [], 'games_count': 0.0, 'total_playt...  \n",
       "3  {'games': [{'appid': 978300, 'name': 'Saints R...  \n",
       "4  {'games': [], 'games_count': 0.0, 'total_playt...  "
      ]
     },
     "execution_count": 27,
     "metadata": {},
     "output_type": "execute_result"
    }
   ],
   "source": [
    "user_data.head()"
   ]
  },
  {
   "cell_type": "code",
   "execution_count": 28,
   "metadata": {},
   "outputs": [
    {
     "data": {
      "text/plain": [
       "Index(['steamid', 'community_visibility_state', 'profile_state',\n",
       "       'persona_name', 'profile_url', 'last_log_off', 'real_name',\n",
       "       'time_created', 'loc_country_code', 'loc_state_code', 'loc_city_id',\n",
       "       'owned_games', 'recently_played_games'],\n",
       "      dtype='object')"
      ]
     },
     "execution_count": 28,
     "metadata": {},
     "output_type": "execute_result"
    }
   ],
   "source": [
    "user_data.columns"
   ]
  },
  {
   "cell_type": "code",
   "execution_count": 29,
   "metadata": {},
   "outputs": [
    {
     "data": {
      "text/plain": [
       "steamid                         int64\n",
       "community_visibility_state      int64\n",
       "profile_state                 float64\n",
       "persona_name                   object\n",
       "profile_url                    object\n",
       "last_log_off                  float64\n",
       "real_name                      object\n",
       "time_created                  float64\n",
       "loc_country_code               object\n",
       "loc_state_code                 object\n",
       "loc_city_id                   float64\n",
       "owned_games                    object\n",
       "recently_played_games          object\n",
       "dtype: object"
      ]
     },
     "execution_count": 29,
     "metadata": {},
     "output_type": "execute_result"
    }
   ],
   "source": [
    "user_data.dtypes"
   ]
  },
  {
   "cell_type": "code",
   "execution_count": 14,
   "metadata": {},
   "outputs": [
    {
     "data": {
      "text/plain": [
       "(4100, 13)"
      ]
     },
     "execution_count": 14,
     "metadata": {},
     "output_type": "execute_result"
    }
   ],
   "source": [
    "user_data.shape"
   ]
  },
  {
   "cell_type": "code",
   "execution_count": 30,
   "metadata": {},
   "outputs": [],
   "source": [
    "# let's filter users with community_visibility_state == 3 (public/visible to everyone)\n",
    "public_user = user_data[user_data['community_visibility_state'] == 3]"
   ]
  },
  {
   "cell_type": "code",
   "execution_count": 31,
   "metadata": {},
   "outputs": [
    {
     "data": {
      "text/plain": [
       "(3222, 13)"
      ]
     },
     "execution_count": 31,
     "metadata": {},
     "output_type": "execute_result"
    }
   ],
   "source": [
    "public_user.shape"
   ]
  },
  {
   "cell_type": "code",
   "execution_count": 32,
   "metadata": {},
   "outputs": [],
   "source": [
    "# there shouldn't be users with owned_games' game_count == 0 since the list of users who reviewed eiyuden chronicle\n",
    "# therefore, they should at least own a game (whether they received it for free or not)\n",
    "# but somehow some of the users listed here has games_count == 0\n",
    "# but maybe they refunded the game once they reviewed it? so let's filter them off\n",
    "public_user_has_games = public_user[\n",
    "    public_user['owned_games'].apply(lambda x: x.get('game_count', 0) > 0)\n",
    "]"
   ]
  },
  {
   "cell_type": "code",
   "execution_count": 33,
   "metadata": {},
   "outputs": [
    {
     "data": {
      "text/plain": [
       "(1495, 13)"
      ]
     },
     "execution_count": 33,
     "metadata": {},
     "output_type": "execute_result"
    }
   ],
   "source": [
    "public_user_has_games.shape"
   ]
  },
  {
   "cell_type": "code",
   "execution_count": 19,
   "metadata": {},
   "outputs": [
    {
     "data": {
      "text/html": [
       "<div>\n",
       "<style scoped>\n",
       "    .dataframe tbody tr th:only-of-type {\n",
       "        vertical-align: middle;\n",
       "    }\n",
       "\n",
       "    .dataframe tbody tr th {\n",
       "        vertical-align: top;\n",
       "    }\n",
       "\n",
       "    .dataframe thead th {\n",
       "        text-align: right;\n",
       "    }\n",
       "</style>\n",
       "<table border=\"1\" class=\"dataframe\">\n",
       "  <thead>\n",
       "    <tr style=\"text-align: right;\">\n",
       "      <th></th>\n",
       "      <th>steamid</th>\n",
       "      <th>community_visibility_state</th>\n",
       "      <th>profile_state</th>\n",
       "      <th>persona_name</th>\n",
       "      <th>profile_url</th>\n",
       "      <th>last_log_off</th>\n",
       "      <th>real_name</th>\n",
       "      <th>time_created</th>\n",
       "      <th>loc_country_code</th>\n",
       "      <th>loc_state_code</th>\n",
       "      <th>loc_city_id</th>\n",
       "      <th>owned_games</th>\n",
       "      <th>recently_played_games</th>\n",
       "    </tr>\n",
       "  </thead>\n",
       "  <tbody>\n",
       "    <tr>\n",
       "      <th>3</th>\n",
       "      <td>76561198368799839</td>\n",
       "      <td>3</td>\n",
       "      <td>1.0</td>\n",
       "      <td>oci51</td>\n",
       "      <td>https://steamcommunity.com/profiles/7656119836...</td>\n",
       "      <td>NaN</td>\n",
       "      <td>oci</td>\n",
       "      <td>1.487895e+09</td>\n",
       "      <td>KR</td>\n",
       "      <td>NaN</td>\n",
       "      <td>NaN</td>\n",
       "      <td>{'game_count': 6658, 'games': [{'appid': 1610,...</td>\n",
       "      <td>{'games_count': 9, 'total_playtime_2weeks': 73...</td>\n",
       "    </tr>\n",
       "    <tr>\n",
       "      <th>5</th>\n",
       "      <td>76561198971574247</td>\n",
       "      <td>3</td>\n",
       "      <td>1.0</td>\n",
       "      <td>依然</td>\n",
       "      <td>https://steamcommunity.com/profiles/7656119897...</td>\n",
       "      <td>NaN</td>\n",
       "      <td>NaN</td>\n",
       "      <td>1.561081e+09</td>\n",
       "      <td>CN</td>\n",
       "      <td>NaN</td>\n",
       "      <td>NaN</td>\n",
       "      <td>{'game_count': 636, 'games': [{'appid': 10, 'n...</td>\n",
       "      <td>{'games_count': 12, 'total_playtime_2weeks': 2...</td>\n",
       "    </tr>\n",
       "    <tr>\n",
       "      <th>7</th>\n",
       "      <td>76561198123424467</td>\n",
       "      <td>3</td>\n",
       "      <td>1.0</td>\n",
       "      <td>108Hvs</td>\n",
       "      <td>https://steamcommunity.com/id/108Hvs/</td>\n",
       "      <td>NaN</td>\n",
       "      <td>Haffipul Saddad</td>\n",
       "      <td>1.390055e+09</td>\n",
       "      <td>ID</td>\n",
       "      <td>30</td>\n",
       "      <td>NaN</td>\n",
       "      <td>{'game_count': 128, 'games': [{'appid': 4000, ...</td>\n",
       "      <td>{'games_count': 6, 'total_playtime_2weeks': 59...</td>\n",
       "    </tr>\n",
       "    <tr>\n",
       "      <th>8</th>\n",
       "      <td>76561198102397621</td>\n",
       "      <td>3</td>\n",
       "      <td>1.0</td>\n",
       "      <td>Malam</td>\n",
       "      <td>https://steamcommunity.com/profiles/7656119810...</td>\n",
       "      <td>NaN</td>\n",
       "      <td>NaN</td>\n",
       "      <td>1.376225e+09</td>\n",
       "      <td>KR</td>\n",
       "      <td>NaN</td>\n",
       "      <td>NaN</td>\n",
       "      <td>{'game_count': 79, 'games': [{'appid': 8870, '...</td>\n",
       "      <td>{'games_count': 6, 'total_playtime_2weeks': 26...</td>\n",
       "    </tr>\n",
       "    <tr>\n",
       "      <th>9</th>\n",
       "      <td>76561198869364047</td>\n",
       "      <td>3</td>\n",
       "      <td>1.0</td>\n",
       "      <td>ScyRo</td>\n",
       "      <td>https://steamcommunity.com/profiles/7656119886...</td>\n",
       "      <td>NaN</td>\n",
       "      <td>Simon Rosales</td>\n",
       "      <td>1.541499e+09</td>\n",
       "      <td>US</td>\n",
       "      <td>NaN</td>\n",
       "      <td>NaN</td>\n",
       "      <td>{'game_count': 130, 'games': [{'appid': 20900,...</td>\n",
       "      <td>{'games_count': 3, 'total_playtime_2weeks': 91...</td>\n",
       "    </tr>\n",
       "  </tbody>\n",
       "</table>\n",
       "</div>"
      ],
      "text/plain": [
       "             steamid  community_visibility_state  profile_state persona_name  \\\n",
       "3  76561198368799839                           3            1.0        oci51   \n",
       "5  76561198971574247                           3            1.0           依然   \n",
       "7  76561198123424467                           3            1.0       108Hvs   \n",
       "8  76561198102397621                           3            1.0        Malam   \n",
       "9  76561198869364047                           3            1.0        ScyRo   \n",
       "\n",
       "                                         profile_url  last_log_off  \\\n",
       "3  https://steamcommunity.com/profiles/7656119836...           NaN   \n",
       "5  https://steamcommunity.com/profiles/7656119897...           NaN   \n",
       "7              https://steamcommunity.com/id/108Hvs/           NaN   \n",
       "8  https://steamcommunity.com/profiles/7656119810...           NaN   \n",
       "9  https://steamcommunity.com/profiles/7656119886...           NaN   \n",
       "\n",
       "         real_name  time_created loc_country_code loc_state_code  loc_city_id  \\\n",
       "3              oci  1.487895e+09               KR            NaN          NaN   \n",
       "5              NaN  1.561081e+09               CN            NaN          NaN   \n",
       "7  Haffipul Saddad  1.390055e+09               ID             30          NaN   \n",
       "8              NaN  1.376225e+09               KR            NaN          NaN   \n",
       "9    Simon Rosales  1.541499e+09               US            NaN          NaN   \n",
       "\n",
       "                                         owned_games  \\\n",
       "3  {'game_count': 6658, 'games': [{'appid': 1610,...   \n",
       "5  {'game_count': 636, 'games': [{'appid': 10, 'n...   \n",
       "7  {'game_count': 128, 'games': [{'appid': 4000, ...   \n",
       "8  {'game_count': 79, 'games': [{'appid': 8870, '...   \n",
       "9  {'game_count': 130, 'games': [{'appid': 20900,...   \n",
       "\n",
       "                               recently_played_games  \n",
       "3  {'games_count': 9, 'total_playtime_2weeks': 73...  \n",
       "5  {'games_count': 12, 'total_playtime_2weeks': 2...  \n",
       "7  {'games_count': 6, 'total_playtime_2weeks': 59...  \n",
       "8  {'games_count': 6, 'total_playtime_2weeks': 26...  \n",
       "9  {'games_count': 3, 'total_playtime_2weeks': 91...  "
      ]
     },
     "execution_count": 19,
     "metadata": {},
     "output_type": "execute_result"
    }
   ],
   "source": [
    "# from 3222 rows down to 1495, that's surprisingly A LOT lol but let's see\n",
    "public_user_has_games.head()"
   ]
  },
  {
   "cell_type": "code",
   "execution_count": 20,
   "metadata": {},
   "outputs": [],
   "source": [
    "# now we need to store ALL the games that user have played to compare with eiyuden chronicle in a set\n",
    "# only the games that have playtime > 0\n",
    "games_set = {\n",
    "    game['appid']\n",
    "    for owned_games in public_user_has_games['owned_games']\n",
    "    for game in owned_games.get('games', []) # they all should have 'games' though but just to be safe\n",
    "    if game.get('playtime_forever', 0) > 0 # the 'playtime_forever' key also should be there but again, just to be safe\n",
    "}"
   ]
  },
  {
   "cell_type": "code",
   "execution_count": 21,
   "metadata": {},
   "outputs": [
    {
     "data": {
      "text/plain": [
       "30471"
      ]
     },
     "execution_count": 21,
     "metadata": {},
     "output_type": "execute_result"
    }
   ],
   "source": [
    "len(games_set)"
   ]
  },
  {
   "cell_type": "markdown",
   "metadata": {},
   "source": [
    "30,471 games information needs to be collected, that's A LOT of games but since we can only filter the games based on its tags AFTER we collected the data, we need to collect all the games data first."
   ]
  },
  {
   "cell_type": "code",
   "execution_count": null,
   "metadata": {},
   "outputs": [],
   "source": [
    "game_data = []\n",
    "for game in games_set:\n",
    "    try:\n",
    "        data = collector.get_games_data(game)\n",
    "        game_data.append(data[0])\n",
    "    except Exception as e:\n",
    "        print(f\"Error fetching data for game {game}: {e}\")"
   ]
  },
  {
   "cell_type": "code",
   "execution_count": null,
   "metadata": {},
   "outputs": [],
   "source": [
    "game_data = collector.get_games_data(\n",
    "    steam_appids=list(games_set),\n",
    "    verbose=True, # we don't really need to see the progress\n",
    ")"
   ]
  }
 ],
 "metadata": {
  "kernelspec": {
   "display_name": "eiyuden-review-EZ3AwDms-py3.12",
   "language": "python",
   "name": "python3"
  },
  "language_info": {
   "codemirror_mode": {
    "name": "ipython",
    "version": 3
   },
   "file_extension": ".py",
   "mimetype": "text/x-python",
   "name": "python",
   "nbconvert_exporter": "python",
   "pygments_lexer": "ipython3",
   "version": "3.12.3"
  }
 },
 "nbformat": 4,
 "nbformat_minor": 2
}
